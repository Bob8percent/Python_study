{
 "cells": [
  {
   "cell_type": "code",
   "execution_count": 2,
   "metadata": {},
   "outputs": [],
   "source": [
    "import tensorflow as tf\n",
    "from tensorflow import keras\n",
    "\n",
    "#   継承を使用したモデル構築(図10-16のモデルを構築する)\n",
    "#   call()によるブラックボックス化がデメリット\n",
    "class WideAndDeepModel(keras.Model):\n",
    "    def __init__(self, units=30, activation=\"relu\", **kwargs):\n",
    "        super().__init__(**kwargs)\n",
    "        super().__init__(**kwargs)\n",
    "        self.hidden1 = keras.layers.Dense(units, activation=activation)\n",
    "        self.hidden2 = keras.layers.Dense(units, activation=activation)\n",
    "        self.main_output = keras.layers.Dense(1)\n",
    "        self.aux_output = keras.layers.Dense(1)\n",
    "    \n",
    "    def call(self, inputs):\n",
    "        input_A, input_B = inputs\n",
    "        hidden1 = self.hidden1(input_B)\n",
    "        hidden2 = self.hidden2(hidden1)\n",
    "        concat = keras.layers.concatenate([input_A, hidden2])\n",
    "        main_output = self.main_output(concat)\n",
    "        aux_output = self.aux_output(hidden2)\n",
    "        return main_output, aux_output\n",
    "    \n",
    "model = WideAndDeepModel()\n",
    "        \n",
    "        "
   ]
  },
  {
   "cell_type": "code",
   "execution_count": null,
   "metadata": {},
   "outputs": [],
   "source": [
    "#   モデルの保存と復元\n",
    "#[...]   #   モデルの構築、コンパイル、訓練\n",
    "model.save(\"my_keras_model.h5\")  #   HDF5形式によるモデルの保存\n",
    "model = keras.model.load_model(\"my_keras.model.h5\")"
   ]
  },
  {
   "cell_type": "code",
   "execution_count": null,
   "metadata": {},
   "outputs": [],
   "source": [
    "#   コールバック関数を使用したエポックごとの保存\n",
    "#[...]  #   モデルの構築、コンパイル\n",
    "checkpoint_cb = keras.callbacks.ModelCheckpoint(\"my_keras.model.h5\")\n",
    "history = model.fit(X_train, y_train, epochs=10, callbacks=[checkpoint_cb]) #   引数にsave_best_only=Trueと指定することで\n",
    "                                                                            #   検証セットに対する評価が最高になったときだけ保存"
   ]
  },
  {
   "cell_type": "code",
   "execution_count": null,
   "metadata": {},
   "outputs": [],
   "source": [
    "#   コールバック関数を使用した早期打ち切り\n",
    "#   patienceだけ検証セットに対する性能が上がらないときに終了\n",
    "early_stopping_cb = keras.callbacks.EarlyStopping(patience=10,\n",
    "                                                    restore_best_weights=True)  #   終了時のではなく最良の重みを保存\n",
    "history = model.fit(X_train, y_train, epochs=100, validation_data=(X_valid, y_valid),\n",
    "                    callbacks=[checkpoint_cb, early_stopping_cb])\n"
   ]
  },
  {
   "cell_type": "code",
   "execution_count": null,
   "metadata": {},
   "outputs": [],
   "source": [
    "#   カスタムコールバックの実装(デバッグ用などに)\n",
    "#   例：訓練中の評価ロスと訓練ロスの比率を計算して過学習を検知\n",
    "class PrintValTrainRatioCallback(kera.callbacks.Callback):\n",
    "    def on_epoch_end(self, epoch, logs):\n",
    "        print(\"\\nval/train: {:,2f}\".format(logs[\"val_loss\"]/logs[\"loss\"]))\n",
    "#   ほかにも様々なタイミングで使える関数を定義できる"
   ]
  },
  {
   "cell_type": "code",
   "execution_count": null,
   "metadata": {},
   "outputs": [],
   "source": [
    "#   tensorboardを使用した可視化\n",
    "import os\n",
    "root_logdir = os.path.join(os.curdir, \"my_logs\")\n",
    "\n",
    "def get_run_logdir():\n",
    "    import time\n",
    "    run_id = time.strftime(\"run_%Y_%m_%d-%H_%M_%S\")\n",
    "    return os.path.join(root_logdir, run_id)\n",
    "\n",
    "run_log_dir = get_run_logdir()  #   形式：./my_logs/run_2019_06_07-15_15_22\n",
    "\n",
    "[...]   #   モデルの構築、コンパイル\n",
    "tensorboard_cb = keras.callbacks.TensorBoard(run_log_dir)\n",
    "history = model.fit(X_train, y_train, epochs=30,\n",
    "                    validation_data =(X_valid, y_valid),\n",
    "                    callbacks=[tensorboard_cb])"
   ]
  }
 ],
 "metadata": {
  "kernelspec": {
   "display_name": "Python 3.10.7 64-bit",
   "language": "python",
   "name": "python3"
  },
  "language_info": {
   "codemirror_mode": {
    "name": "ipython",
    "version": 3
   },
   "file_extension": ".py",
   "mimetype": "text/x-python",
   "name": "python",
   "nbconvert_exporter": "python",
   "pygments_lexer": "ipython3",
   "version": "3.10.7"
  },
  "orig_nbformat": 4,
  "vscode": {
   "interpreter": {
    "hash": "a6fdf0cebff75ebc8562d1fd6dfb543976b20263b8527b00aa8ceb00671f916a"
   }
  }
 },
 "nbformat": 4,
 "nbformat_minor": 2
}
