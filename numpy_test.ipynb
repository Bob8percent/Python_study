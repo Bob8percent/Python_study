{
 "cells": [
  {
   "cell_type": "markdown",
   "metadata": {},
   "source": [
    "# Python"
   ]
  },
  {
   "cell_type": "code",
   "execution_count": 20,
   "metadata": {},
   "outputs": [
    {
     "data": {
      "text/plain": [
       "array([1, 2, 4, 5, 7, 8])"
      ]
     },
     "execution_count": 20,
     "metadata": {},
     "output_type": "execute_result"
    }
   ],
   "source": [
    "import numpy as np\n",
    "#arrayメソッド\n",
    "x1=np.array(1)  #スカラー\n",
    "x2=np.array([1,2,3])    #ベクトル\n",
    "x3=np.array([[1,2],\n",
    "             [4,5],\n",
    "             [7,8]])  #行列\n",
    "x3.shape\n",
    "x3.shape[0] #行の数\n",
    "x3.reshape(2,3)\n",
    "x3.reshape(-1,1)    #n行1列にしたいときは-1を指定\n",
    "x3.ravel()  #行列からベクトルに変換できる\n"
   ]
  },
  {
   "cell_type": "code",
   "execution_count": 32,
   "metadata": {},
   "outputs": [
    {
     "data": {
      "text/plain": [
       "array([1, 4, 7])"
      ]
     },
     "execution_count": 32,
     "metadata": {},
     "output_type": "execute_result"
    }
   ],
   "source": [
    "x3=np.array([[1,2],\n",
    "             [4,5],\n",
    "             [7,8]])  #行列\n",
    "x3[0]   #   1行目\n",
    "#   :は範囲指定するもの\n",
    "x3[1:]  #   2行目からすべて取り出す\n",
    "x3[:2]  #   2行目まで取り出す\n",
    "x3[:]\n",
    "\n",
    "x3[0,1] #   x3[0][1]\n",
    "x3[:,1] #   1列のものすべて\n",
    "x3[:,0]"
   ]
  },
  {
   "cell_type": "code",
   "execution_count": 52,
   "metadata": {},
   "outputs": [
    {
     "name": "stdout",
     "output_type": "stream",
     "text": [
      "[[1]\n",
      " [1]\n",
      " [1]\n",
      " [1]\n",
      " [0]\n",
      " [1]\n",
      " [0]\n",
      " [1]\n",
      " [1]\n",
      " [0]]\n"
     ]
    },
    {
     "data": {
      "text/plain": [
       "array([0, 1, 2, 3, 5, 7, 8])"
      ]
     },
     "execution_count": 52,
     "metadata": {},
     "output_type": "execute_result"
    }
   ],
   "source": [
    "x3=np.array([[1,2],\n",
    "             [4,5],\n",
    "             [7,8]])  #行列\n",
    "\n",
    "x3>4\n",
    "x3[x3>4]    #   x3>4の要素をすべて取り出してベクトル化\n",
    "\n",
    "a=np.arange(10).reshape(-1,1)\n",
    "np.random.seed(0)\n",
    "b=np.random.rand(10)  #   0~1までの乱数を10個\n",
    "b=np.where(b>0.5,1,0).reshape(-1,1) #   whereはC++の?:と同じ\n",
    "print(b)\n",
    "a[:][b==1]  #   b==1となるときのaの要素をすべて取り出す"
   ]
  },
  {
   "cell_type": "code",
   "execution_count": 55,
   "metadata": {},
   "outputs": [
    {
     "data": {
      "text/plain": [
       "array([[1, 2, 1, 2],\n",
       "       [4, 5, 4, 5],\n",
       "       [7, 8, 7, 8]])"
      ]
     },
     "execution_count": 55,
     "metadata": {},
     "output_type": "execute_result"
    }
   ],
   "source": [
    "a=np.array([[1,2],\n",
    "             [4,5],\n",
    "             [7,8]])  #行列\n",
    "b=np.array([[1,2],\n",
    "             [4,5],\n",
    "             [7,8]])  #行列\n",
    "np.vstack((a,b))    #   縦方向に結合(タプルで引数指定することに注意)\n",
    "np.hstack((a,b))    #   横方向に結合"
   ]
  },
  {
   "cell_type": "code",
   "execution_count": 57,
   "metadata": {},
   "outputs": [
    {
     "data": {
      "text/plain": [
       "array([1, 2, 3, 4, 5, 6, 7, 8, 9])"
      ]
     },
     "execution_count": 57,
     "metadata": {},
     "output_type": "execute_result"
    }
   ],
   "source": [
    "np.arange(1,10)    #   1以上10未満の整数のベクトルを生成"
   ]
  },
  {
   "cell_type": "code",
   "execution_count": 63,
   "metadata": {},
   "outputs": [
    {
     "data": {
      "text/plain": [
       "array([[1., 1., 1.],\n",
       "       [1., 1., 1.],\n",
       "       [1., 1., 1.]])"
      ]
     },
     "execution_count": 63,
     "metadata": {},
     "output_type": "execute_result"
    }
   ],
   "source": [
    "np.zeros([3,3])\n",
    "np.ones([3,3])"
   ]
  },
  {
   "cell_type": "code",
   "execution_count": 64,
   "metadata": {},
   "outputs": [
    {
     "data": {
      "text/plain": [
       "array([[1, 1],\n",
       "       [1, 1],\n",
       "       [1, 1]])"
      ]
     },
     "execution_count": 64,
     "metadata": {},
     "output_type": "execute_result"
    }
   ],
   "source": [
    "a=np.array([[1,2],\n",
    "             [4,5],\n",
    "             [7,8]])  #3*2行列\n",
    "np.zeros_like(a)    #   要素がすべて0の3*2行列\n",
    "np.ones_like(a)"
   ]
  },
  {
   "cell_type": "code",
   "execution_count": 66,
   "metadata": {},
   "outputs": [
    {
     "data": {
      "text/plain": [
       "array([[1., 0., 0.],\n",
       "       [0., 1., 0.],\n",
       "       [0., 0., 1.]])"
      ]
     },
     "execution_count": 66,
     "metadata": {},
     "output_type": "execute_result"
    }
   ],
   "source": [
    "np.eye(3)   #   単位行列"
   ]
  },
  {
   "cell_type": "code",
   "execution_count": 69,
   "metadata": {},
   "outputs": [
    {
     "data": {
      "text/plain": [
       "array([0. , 0.1, 0.2, 0.3, 0.4, 0.5, 0.6, 0.7, 0.8, 0.9, 1. ])"
      ]
     },
     "execution_count": 69,
     "metadata": {},
     "output_type": "execute_result"
    }
   ],
   "source": [
    "np.linspace(0,1,11) # 0~1の範囲を11等分したベクトル"
   ]
  },
  {
   "cell_type": "code",
   "execution_count": 71,
   "metadata": {},
   "outputs": [
    {
     "data": {
      "text/plain": [
       "array([ 0.14404357,  1.45427351,  0.76103773,  0.12167502,  0.44386323,\n",
       "        0.33367433,  1.49407907, -0.20515826,  0.3130677 , -0.85409574])"
      ]
     },
     "execution_count": 71,
     "metadata": {},
     "output_type": "execute_result"
    }
   ],
   "source": [
    "np.random.randn(10)    #   平均0,分散1の乱数を生成"
   ]
  },
  {
   "cell_type": "code",
   "execution_count": 74,
   "metadata": {},
   "outputs": [
    {
     "data": {
      "text/plain": [
       "array([34,  0,  0, 36, 53,  5, 38, 17, 79,  4])"
      ]
     },
     "execution_count": 74,
     "metadata": {},
     "output_type": "execute_result"
    }
   ],
   "source": [
    "np.random.randint(0,100,10) #   0~100-1までの整数乱数を10個生成"
   ]
  },
  {
   "cell_type": "code",
   "execution_count": 79,
   "metadata": {},
   "outputs": [
    {
     "data": {
      "text/plain": [
       "array([[ 1,  4],\n",
       "       [16, 25],\n",
       "       [49, 64]])"
      ]
     },
     "execution_count": 79,
     "metadata": {},
     "output_type": "execute_result"
    }
   ],
   "source": [
    "a=np.array([[1,2],\n",
    "             [4,5],\n",
    "             [7,8]])  #行列\n",
    "b=np.array([[1,2],\n",
    "             [4,5],\n",
    "             [7,8]])  #行列\n",
    "#   四則演算\n",
    "a+b\n",
    "a-b\n",
    "a*b\n",
    "a/b"
   ]
  },
  {
   "cell_type": "code",
   "execution_count": 80,
   "metadata": {},
   "outputs": [
    {
     "data": {
      "text/plain": [
       "array([[ 1,  4],\n",
       "       [16, 25],\n",
       "       [49, 64]])"
      ]
     },
     "execution_count": 80,
     "metadata": {},
     "output_type": "execute_result"
    }
   ],
   "source": [
    "a**2    #   累乗"
   ]
  },
  {
   "cell_type": "code",
   "execution_count": 90,
   "metadata": {},
   "outputs": [
    {
     "data": {
      "text/plain": [
       "array([ 6.92820323,  7.        ,  8.30662386, 13.        , 12.76714533,\n",
       "       13.85640646,  9.74679434, 14.03566885,  9.69535971,  0.        ,\n",
       "       10.63014581, 13.34166406,  6.        , 12.72792206,  6.92820323,\n",
       "        9.64365076, 11.44552314,  9.89949494,  6.4807407 , 10.58300524])"
      ]
     },
     "execution_count": 90,
     "metadata": {},
     "output_type": "execute_result"
    }
   ],
   "source": [
    "a**0.5  #   平方根\n"
   ]
  },
  {
   "cell_type": "code",
   "execution_count": 84,
   "metadata": {},
   "outputs": [
    {
     "data": {
      "text/plain": [
       "array([[0.69314718, 1.09861229],\n",
       "       [1.60943791, 1.79175947],\n",
       "       [2.07944154, 2.19722458]])"
      ]
     },
     "execution_count": 84,
     "metadata": {},
     "output_type": "execute_result"
    }
   ],
   "source": [
    "np.exp(a)   #   e^x"
   ]
  },
  {
   "cell_type": "code",
   "execution_count": 105,
   "metadata": {},
   "outputs": [
    {
     "data": {
      "text/plain": [
       "7"
      ]
     },
     "execution_count": 105,
     "metadata": {},
     "output_type": "execute_result"
    }
   ],
   "source": [
    "np.random.seed(0)\n",
    "a=np.random.randint(0,200,20)\n",
    "np.sum(a)   #   合計\n",
    "np.mean(a)  #   平均\n",
    "np.var(a)   #   分散\n",
    "np.std(a)   #   標準偏差\n",
    "\n",
    "np.max(a)   #   最大値\n",
    "np.argmax(a)    #   最大値のインデックス\n",
    "np.min(a)   #   最小値\n",
    "np.argmin(a)    #   最小値のインデックス"
   ]
  },
  {
   "cell_type": "code",
   "execution_count": 107,
   "metadata": {},
   "outputs": [
    {
     "data": {
      "text/plain": [
       "dtype('int32')"
      ]
     },
     "execution_count": 107,
     "metadata": {},
     "output_type": "execute_result"
    }
   ],
   "source": [
    "np.random.seed(0)\n",
    "a=np.random.randint(0,200,20)\n",
    "\n",
    "a.dtype #   要素のデータ型"
   ]
  },
  {
   "cell_type": "code",
   "execution_count": 108,
   "metadata": {},
   "outputs": [
    {
     "data": {
      "text/plain": [
       "array([ 81, 165,  25,  77,  72,   9, 148, 115, 197,  79, 175, 192,  82,\n",
       "        99, 177,  29, 147, 147, 142, 167])"
      ]
     },
     "execution_count": 108,
     "metadata": {},
     "output_type": "execute_result"
    }
   ],
   "source": [
    "#   データ指定して配列生成\n",
    "np.random.randint(0,200,20,dtype='int32')"
   ]
  },
  {
   "cell_type": "code",
   "execution_count": 110,
   "metadata": {},
   "outputs": [
    {
     "data": {
      "text/plain": [
       "array([ 1.46,  1.54,  0.57,  0.15, -1.08,  1.4 ,  1.79, -0.57,  0.18,\n",
       "       -0.46])"
      ]
     },
     "execution_count": 110,
     "metadata": {},
     "output_type": "execute_result"
    }
   ],
   "source": [
    "a=np.random.randn(10)\n",
    "np.round(a,2)   #   小数点以下を2個にまるめる"
   ]
  }
 ],
 "metadata": {
  "kernelspec": {
   "display_name": "Python 3.10.7 64-bit",
   "language": "python",
   "name": "python3"
  },
  "language_info": {
   "codemirror_mode": {
    "name": "ipython",
    "version": 3
   },
   "file_extension": ".py",
   "mimetype": "text/x-python",
   "name": "python",
   "nbconvert_exporter": "python",
   "pygments_lexer": "ipython3",
   "version": "3.10.7"
  },
  "orig_nbformat": 4,
  "vscode": {
   "interpreter": {
    "hash": "a6fdf0cebff75ebc8562d1fd6dfb543976b20263b8527b00aa8ceb00671f916a"
   }
  }
 },
 "nbformat": 4,
 "nbformat_minor": 2
}
